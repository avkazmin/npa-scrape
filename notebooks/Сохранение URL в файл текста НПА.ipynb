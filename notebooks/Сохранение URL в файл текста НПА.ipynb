{
 "cells": [
  {
   "cell_type": "markdown",
   "id": "8cd82ff8",
   "metadata": {},
   "source": [
    "## Мой рабочий вариант"
   ]
  },
  {
   "cell_type": "code",
   "execution_count": null,
   "id": "4b91ad9a",
   "metadata": {
    "scrolled": false
   },
   "outputs": [],
   "source": [
    "import urllib.request\n",
    "import requests\n",
    "#import time\n",
    "from bs4 import BeautifulSoup\n",
    "from os.path import basename\n",
    "from urllib.request import urlopen\n",
    "\n",
    "#https://stackoverflow.com/questions/72318469/read-urls-from-a-text-file\n",
    "#https://stackoverflow.com/questions/43150478/urllib-get-name-of-file-from-direct-download-link\n",
    "\n",
    "with open('urls_all.txt') as fh:\n",
    "    urls = fh.read().split('\\n')\n",
    "\n",
    "data = []\n",
    "\n",
    "for url in urls:\n",
    "    \n",
    "    try:\n",
    "        r = requests.get(url, timeout=1)\n",
    "        #r = requests.get(url, timeout=1)\n",
    "        r.raise_for_status()\n",
    "\n",
    "    except:\n",
    "       \n",
    "        pass\n",
    "    if r.status_code != 200:\n",
    "        print(\"Website Error: \", url, r)\n",
    "    else:\n",
    "        # print (\"Website Good: \", url, r)\n",
    "\n",
    "        html = urllib.request.urlopen(url)\n",
    "        html.addheaders = [\n",
    "            (\n",
    "                \"User-agent\",\n",
    "                \"Mozilla/5.0 (Windows NT 10.0; Win64; x64) AppleWebKit/537.36 (KHTML, like Gecko) Chrome/118.0.0.0 Safari/537.36\",\n",
    "            )\n",
    "        ]\n",
    "        #time.sleep(3)\n",
    "        soup = BeautifulSoup(html, \"lxml\")\n",
    "        ps = soup.findAll()\n",
    "        text = ps[0].text               \n",
    "        response = urlopen(url)\n",
    "        name = basename(response.url)\n",
    "        separator = \".\"\n",
    "        result = name.split(separator, 1)[0]\n",
    "        with open(f\"{result}.txt\", \"w\", encoding=\"utf-8\") as file:\n",
    "                    file.write(str(text))\n",
    "        print(\"scraping \" + url +\" \" + text)\n"
   ]
  },
  {
   "cell_type": "markdown",
   "id": "94df87d3",
   "metadata": {},
   "source": [
    "## Var2"
   ]
  },
  {
   "cell_type": "code",
   "execution_count": null,
   "id": "9ecfdda5",
   "metadata": {},
   "outputs": [],
   "source": [
    "import urllib.request\n",
    "import requests\n",
    "\n",
    "from bs4 import BeautifulSoup\n",
    "\n",
    "#https://stackoverflow.com/questions/72318469/read-urls-from-a-text-file\n",
    "with open('urls.txt') as fh:\n",
    "    urls = fh.read().split('\\n')\n",
    "\n",
    "data = []\n",
    "\n",
    "\n",
    "id= 0\n",
    "for url in urls:\n",
    "    \n",
    "    \"\"\"\"try:\n",
    "        r = requests.get(url, timeout=10)\n",
    "        r.raise_for_status()\n",
    "\n",
    "    except:\n",
    "       \n",
    "        pass\n",
    "    if r.status_code != 200:\n",
    "        print(\"Website Error: \", url, r)\n",
    "    else:\n",
    "        # print (\"Website Good: \", url, r)\n",
    "\"\"\"\n",
    "    try : \n",
    "        page = requests.get(address, timeout=30)  # set the max timeout , eg 30 sec # \n",
    "        \n",
    "    except requests.exceptions.ReadTimeout : \n",
    "        print('timed out')\n",
    "    except Exception as ex : \n",
    "        print(type(ex).__name__)\n",
    "                     \n",
    "        html = urllib.request.urlopen(url)\n",
    "        html.addheaders = [(\"User-agent\", \"Mozilla/5.0 (Windows NT 10.0; Win64; x64) AppleWebKit/537.36 (KHTML, like Gecko) Chrome/118.0.0.0 Safari/537.36\",)]\n",
    "        soup = BeautifulSoup(html, \"lxml\")\n",
    "        ps = soup.findAll()\n",
    "        text = ps[0].text\n",
    "        #separator = \":\"\n",
    "        #result = text.split(separator, 1)[0]\n",
    "        #print(url, result)\n",
    "        id += 1\n",
    "        with open(f\"url_{id}.txt\", \"w\", encoding=\"utf-8\") as file:\n",
    "                    file.write(str(text))\n",
    "        print(text)\n"
   ]
  },
  {
   "cell_type": "code",
   "execution_count": null,
   "id": "e8b58cfb",
   "metadata": {},
   "outputs": [],
   "source": [
    "#https://stackoverflow.com/questions/34315388/python-web-scraping-error-10060"
   ]
  },
  {
   "cell_type": "code",
   "execution_count": null,
   "id": "e43d1665",
   "metadata": {},
   "outputs": [],
   "source": [
    "https://stackoverflow.com/questions/61828775/how-do-i-scrape-a-web-page-that-loads-after-x-seconds"
   ]
  },
  {
   "cell_type": "code",
   "execution_count": null,
   "id": "e29765c0",
   "metadata": {},
   "outputs": [],
   "source": [
    "https://stackoverflow.com/questions/27752644/python-requests-error-10060"
   ]
  }
 ],
 "metadata": {
  "kernelspec": {
   "display_name": "Python 3 (ipykernel)",
   "language": "python",
   "name": "python3"
  },
  "language_info": {
   "codemirror_mode": {
    "name": "ipython",
    "version": 3
   },
   "file_extension": ".py",
   "mimetype": "text/x-python",
   "name": "python",
   "nbconvert_exporter": "python",
   "pygments_lexer": "ipython3",
   "version": "3.9.13"
  },
  "toc": {
   "base_numbering": 1,
   "nav_menu": {
    "height": "121.997px",
    "width": "196.291px"
   },
   "number_sections": true,
   "sideBar": true,
   "skip_h1_title": false,
   "title_cell": "Table of Contents",
   "title_sidebar": "Contents",
   "toc_cell": false,
   "toc_position": {
    "height": "calc(100% - 180px)",
    "left": "10px",
    "top": "150px",
    "width": "165px"
   },
   "toc_section_display": true,
   "toc_window_display": true
  }
 },
 "nbformat": 4,
 "nbformat_minor": 5
}
